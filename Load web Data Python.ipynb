{
 "cells": [
  {
   "cell_type": "markdown",
   "id": "d1c352e2",
   "metadata": {},
   "source": [
    "## This is how to load dataset from web with url link in python"
   ]
  },
  {
   "cell_type": "code",
   "execution_count": 7,
   "id": "adf4518b",
   "metadata": {},
   "outputs": [],
   "source": [
    "# import pandas as pd\n",
    "# url=\"https://www.fdic.gov/bank/individual/failed/banklist.csv\"\n",
    "# c=pd.read_csv(url)\n",
    "# // This code generated the following error:\n",
    "#     'utf-8' codec can't decode byte 0xa0 in position 4276: invalid start byte"
   ]
  },
  {
   "cell_type": "markdown",
   "id": "60d27624",
   "metadata": {},
   "source": [
    "To solve the above error i used the code bellow:"
   ]
  },
  {
   "cell_type": "code",
   "execution_count": null,
   "id": "71acf8f5",
   "metadata": {},
   "outputs": [],
   "source": [
    "import pandas as pd\n",
    "url=\"https://www.fdic.gov/bank/individual/failed/banklist.csv\"\n",
    "c=pd.read_csv(url)"
   ]
  },
  {
   "cell_type": "code",
   "execution_count": 5,
   "id": "1047e994",
   "metadata": {},
   "outputs": [],
   "source": [
    "df = pd.read_csv(url,encoding='windows-1254')"
   ]
  },
  {
   "cell_type": "code",
   "execution_count": 8,
   "id": "8168ac3d",
   "metadata": {},
   "outputs": [
    {
     "data": {
      "text/html": [
       "<div>\n",
       "<style scoped>\n",
       "    .dataframe tbody tr th:only-of-type {\n",
       "        vertical-align: middle;\n",
       "    }\n",
       "\n",
       "    .dataframe tbody tr th {\n",
       "        vertical-align: top;\n",
       "    }\n",
       "\n",
       "    .dataframe thead th {\n",
       "        text-align: right;\n",
       "    }\n",
       "</style>\n",
       "<table border=\"1\" class=\"dataframe\">\n",
       "  <thead>\n",
       "    <tr style=\"text-align: right;\">\n",
       "      <th></th>\n",
       "      <th>Bank Name</th>\n",
       "      <th>City</th>\n",
       "      <th>State</th>\n",
       "      <th>Cert</th>\n",
       "      <th>Acquiring Institution</th>\n",
       "      <th>Closing Date</th>\n",
       "      <th>Fund</th>\n",
       "    </tr>\n",
       "  </thead>\n",
       "  <tbody>\n",
       "    <tr>\n",
       "      <th>0</th>\n",
       "      <td>Almena State Bank</td>\n",
       "      <td>Almena</td>\n",
       "      <td>KS</td>\n",
       "      <td>15426</td>\n",
       "      <td>Equity Bank</td>\n",
       "      <td>23-Oct-20</td>\n",
       "      <td>10538</td>\n",
       "    </tr>\n",
       "    <tr>\n",
       "      <th>1</th>\n",
       "      <td>First City Bank of Florida</td>\n",
       "      <td>Fort Walton Beach</td>\n",
       "      <td>FL</td>\n",
       "      <td>16748</td>\n",
       "      <td>United Fidelity Bank, fsb</td>\n",
       "      <td>16-Oct-20</td>\n",
       "      <td>10537</td>\n",
       "    </tr>\n",
       "    <tr>\n",
       "      <th>2</th>\n",
       "      <td>The First State Bank</td>\n",
       "      <td>Barboursville</td>\n",
       "      <td>WV</td>\n",
       "      <td>14361</td>\n",
       "      <td>MVB Bank, Inc.</td>\n",
       "      <td>3-Apr-20</td>\n",
       "      <td>10536</td>\n",
       "    </tr>\n",
       "    <tr>\n",
       "      <th>3</th>\n",
       "      <td>Ericson State Bank</td>\n",
       "      <td>Ericson</td>\n",
       "      <td>NE</td>\n",
       "      <td>18265</td>\n",
       "      <td>Farmers and Merchants Bank</td>\n",
       "      <td>14-Feb-20</td>\n",
       "      <td>10535</td>\n",
       "    </tr>\n",
       "    <tr>\n",
       "      <th>4</th>\n",
       "      <td>City National Bank of New Jersey</td>\n",
       "      <td>Newark</td>\n",
       "      <td>NJ</td>\n",
       "      <td>21111</td>\n",
       "      <td>Industrial Bank</td>\n",
       "      <td>1-Nov-19</td>\n",
       "      <td>10534</td>\n",
       "    </tr>\n",
       "  </tbody>\n",
       "</table>\n",
       "</div>"
      ],
      "text/plain": [
       "                         Bank Name               City  State   Cert   \\\n",
       "0                 Almena State Bank             Almena     KS  15426   \n",
       "1        First City Bank of Florida  Fort Walton Beach     FL  16748   \n",
       "2              The First State Bank      Barboursville     WV  14361   \n",
       "3                Ericson State Bank            Ericson     NE  18265   \n",
       "4  City National Bank of New Jersey             Newark     NJ  21111   \n",
       "\n",
       "       Acquiring Institution  Closing Date    Fund  \n",
       "0                 Equity Bank     23-Oct-20  10538  \n",
       "1   United Fidelity Bank, fsb     16-Oct-20  10537  \n",
       "2              MVB Bank, Inc.      3-Apr-20  10536  \n",
       "3  Farmers and Merchants Bank     14-Feb-20  10535  \n",
       "4             Industrial Bank      1-Nov-19  10534  "
      ]
     },
     "execution_count": 8,
     "metadata": {},
     "output_type": "execute_result"
    }
   ],
   "source": [
    "df.head()"
   ]
  },
  {
   "cell_type": "code",
   "execution_count": null,
   "id": "e8c2eda8",
   "metadata": {},
   "outputs": [],
   "source": []
  }
 ],
 "metadata": {
  "kernelspec": {
   "display_name": "Python 3 (ipykernel)",
   "language": "python",
   "name": "python3"
  },
  "language_info": {
   "codemirror_mode": {
    "name": "ipython",
    "version": 3
   },
   "file_extension": ".py",
   "mimetype": "text/x-python",
   "name": "python",
   "nbconvert_exporter": "python",
   "pygments_lexer": "ipython3",
   "version": "3.9.13"
  }
 },
 "nbformat": 4,
 "nbformat_minor": 5
}
